{
 "cells": [
  {
   "cell_type": "code",
   "execution_count": 4,
   "id": "aa4c32c2",
   "metadata": {},
   "outputs": [
    {
     "name": "stdout",
     "output_type": "stream",
     "text": [
      "C:\\Prasad\\MSIITM\\Research\\Dataset\\train\\pre_req_dataset\n"
     ]
    }
   ],
   "source": [
    "cd .."
   ]
  },
  {
   "cell_type": "code",
   "execution_count": 6,
   "id": "50c4f401",
   "metadata": {},
   "outputs": [],
   "source": [
    "import pandas as pd\n",
    "\n",
    "data = pd.read_csv(\"KaggleDataset/train.csv\") # Read the main file\n",
    "metad = pd.read_csv(\"KaggleDataset/metadata.csv\")    # Read the meta data file\n",
    "\n",
    "#add suffixes to the column of meta data so that we can distinguish between pre and conept columns\n",
    "metad.columns = [f'{col}_pre' for col in metad.columns]\n",
    "\n",
    "# Merge both the files based on the concept names\n",
    "new_data = pd.merge(data, metad, left_on='pre requisite', right_on='video name_pre', how=\"left\")\n",
    "\n",
    "# Remove the existing _pre from the columns\n",
    "metad.columns = [f'{col}'[:-4] for col in metad.columns]\n",
    "\n",
    "#Attach the suffixes to the existing columns\n",
    "metad.columns = [f'{col}_concept' for col in metad.columns]\n",
    "\n",
    "# Merge both the columns together based on the video name\n",
    "new_data = pd.merge(new_data, metad, left_on='concept', right_on='video name_concept', how=\"left\")"
   ]
  },
  {
   "cell_type": "code",
   "execution_count": 7,
   "id": "7b270b8d",
   "metadata": {},
   "outputs": [],
   "source": [
    "data = new_data[['label','transcript_pre','transcript_concept']]"
   ]
  },
  {
   "cell_type": "code",
   "execution_count": 8,
   "id": "88625d86",
   "metadata": {},
   "outputs": [],
   "source": [
    "from sklearn.model_selection import train_test_split\n",
    "\n",
    "#Train Test Split\n",
    "X = data\n",
    "y = data[['label']]\n",
    "\n",
    "# Split data into training and testing sets\n",
    "X_train, X_test, y_train, y_test = train_test_split(X, y, test_size=0.2, random_state=42)"
   ]
  },
  {
   "cell_type": "code",
   "execution_count": 9,
   "id": "9416c4de",
   "metadata": {
    "scrolled": false
   },
   "outputs": [
    {
     "name": "stderr",
     "output_type": "stream",
     "text": [
      "Some weights of BertForSequenceClassification were not initialized from the model checkpoint at sentence-transformers/paraphrase-MiniLM-L3-v2 and are newly initialized: ['classifier.weight', 'classifier.bias']\n",
      "You should probably TRAIN this model on a down-stream task to be able to use it for predictions and inference.\n"
     ]
    },
    {
     "data": {
      "application/vnd.jupyter.widget-view+json": {
       "model_id": "53f6e077f64a4c66bcec4d767b57630e",
       "version_major": 2,
       "version_minor": 0
      },
      "text/plain": [
       "Epoch:   0%|          | 0/4 [00:00<?, ?it/s]"
      ]
     },
     "metadata": {},
     "output_type": "display_data"
    },
    {
     "data": {
      "application/vnd.jupyter.widget-view+json": {
       "model_id": "1b98e91f639f4ca49a894d822a947d03",
       "version_major": 2,
       "version_minor": 0
      },
      "text/plain": [
       "Iteration:   0%|          | 0/280 [00:00<?, ?it/s]"
      ]
     },
     "metadata": {},
     "output_type": "display_data"
    },
    {
     "data": {
      "application/vnd.jupyter.widget-view+json": {
       "model_id": "2433785bb4694bebb95306b6bef60069",
       "version_major": 2,
       "version_minor": 0
      },
      "text/plain": [
       "Iteration:   0%|          | 0/280 [00:00<?, ?it/s]"
      ]
     },
     "metadata": {},
     "output_type": "display_data"
    },
    {
     "data": {
      "application/vnd.jupyter.widget-view+json": {
       "model_id": "8ff70414ac30426ba09544a28609519d",
       "version_major": 2,
       "version_minor": 0
      },
      "text/plain": [
       "Iteration:   0%|          | 0/280 [00:00<?, ?it/s]"
      ]
     },
     "metadata": {},
     "output_type": "display_data"
    },
    {
     "data": {
      "application/vnd.jupyter.widget-view+json": {
       "model_id": "01ab8d0d9ca84024ab695bbe8294c673",
       "version_major": 2,
       "version_minor": 0
      },
      "text/plain": [
       "Iteration:   0%|          | 0/280 [00:00<?, ?it/s]"
      ]
     },
     "metadata": {},
     "output_type": "display_data"
    }
   ],
   "source": [
    "from torch.utils.data import DataLoader\n",
    "import math\n",
    "from sentence_transformers import LoggingHandler, util\n",
    "from sentence_transformers.cross_encoder import CrossEncoder\n",
    "from sentence_transformers.cross_encoder.evaluation import CEBinaryClassificationEvaluator\n",
    "from sentence_transformers.readers import InputExample\n",
    "import logging\n",
    "from datetime import datetime\n",
    "import os\n",
    "import gzip\n",
    "import csv\n",
    "\n",
    "\n",
    "#Check if dataset exsist. If not, download and extract  it\n",
    "# dataset_path = 'quora-dataset/'\n",
    "\n",
    "train_samples = []\n",
    "for row in X_train.iterrows():\n",
    "    train_samples.append(InputExample(texts=[row[1]['transcript_pre'], row[1]['transcript_concept']], label=int(row[1]['label'])))\n",
    "    train_samples.append(InputExample(texts=[row[1]['transcript_pre'], row[1]['transcript_concept']], label=int(row[1]['label'])))\n",
    "\n",
    "\n",
    "# logger.info(\"Read dev dataset\")\n",
    "dev_samples = []\n",
    "for row in X_test.iterrows():\n",
    "    dev_samples.append(InputExample(texts=[row[1]['transcript_pre'], row[1]['transcript_concept']], label=int(row[1]['label'])))\n",
    "\n",
    "\n",
    "#Configuration\n",
    "train_batch_size = 16\n",
    "num_epochs = 4\n",
    "model_save_path = 'model'+datetime.now().strftime(\"%Y-%m-%d_%H-%M-%S\")\n",
    "\n",
    "\n",
    "#We use distilroberta-base with a single label, i.e., it will output a value between 0 and 1 indicating the similarity of the two questions\n",
    "model = CrossEncoder('sentence-transformers/paraphrase-MiniLM-L3-v2', num_labels=1)\n",
    "\n",
    "# We wrap train_samples (which is a List[InputExample]) into a pytorch DataLoader\n",
    "train_dataloader = DataLoader(train_samples, shuffle=True, batch_size=train_batch_size)\n",
    "\n",
    "\n",
    "# We add an evaluator, which evaluates the performance during training\n",
    "evaluator = CEBinaryClassificationEvaluator.from_input_examples(dev_samples, name='prereq')\n",
    "\n",
    "\n",
    "# Configure the training\n",
    "warmup_steps = math.ceil(len(train_dataloader) * num_epochs * 0.1) #10% of train data for warm-up\n",
    "# logger.info(\"Warmup-steps: {}\".format(warmup_steps))\n",
    "\n",
    "\n",
    "# Train the model\n",
    "model.fit(train_dataloader=train_dataloader,\n",
    "          evaluator=evaluator,\n",
    "          epochs=num_epochs,\n",
    "          evaluation_steps=500,\n",
    "          warmup_steps=warmup_steps,\n",
    "          output_path=model_save_path)"
   ]
  },
  {
   "cell_type": "code",
   "execution_count": 16,
   "id": "cfd9ba8b",
   "metadata": {},
   "outputs": [],
   "source": [
    "# logger.info(\"Read dev dataset\")\n",
    "import numpy as np\n",
    "test_data = []\n",
    "for i in range(len(X_test)):\n",
    "    test_data.append([X_test.iloc[i]['transcript_pre'],X_test.iloc[i]['transcript_concept']])\n",
    "\n",
    "pred = model.predict(test_data)\n",
    "\n",
    "y_pred_norm = np.round(pred)"
   ]
  },
  {
   "cell_type": "code",
   "execution_count": 18,
   "id": "382d7892",
   "metadata": {},
   "outputs": [
    {
     "name": "stdout",
     "output_type": "stream",
     "text": [
      "Test Results for :\n",
      "Accuracy:  0.7357142857142858\n",
      "Precision:  0.6586538461538461\n",
      "Recall:  0.6401869158878505\n",
      "F1-score:  0.6492890995260663\n",
      "\n",
      "\n"
     ]
    }
   ],
   "source": [
    "from sklearn.metrics import accuracy_score, precision_score, recall_score, f1_score\n",
    "accuracy = accuracy_score(y_test, y_pred_norm)\n",
    "precision = precision_score(y_test, y_pred_norm)\n",
    "recall = recall_score(y_test, y_pred_norm)\n",
    "f1 = f1_score(y_test, y_pred_norm)\n",
    "\n",
    "print(f\"Test Results for :\")\n",
    "print(f\"Accuracy: \", accuracy)\n",
    "print(f\"Precision: \", precision)\n",
    "print(f\"Recall: \",recall)\n",
    "print(f\"F1-score: \", f1)\n",
    "print(\"\\n\")"
   ]
  }
 ],
 "metadata": {
  "kernelspec": {
   "display_name": "Python 3 (ipykernel)",
   "language": "python",
   "name": "python3"
  },
  "language_info": {
   "codemirror_mode": {
    "name": "ipython",
    "version": 3
   },
   "file_extension": ".py",
   "mimetype": "text/x-python",
   "name": "python",
   "nbconvert_exporter": "python",
   "pygments_lexer": "ipython3",
   "version": "3.11.4"
  }
 },
 "nbformat": 4,
 "nbformat_minor": 5
}
